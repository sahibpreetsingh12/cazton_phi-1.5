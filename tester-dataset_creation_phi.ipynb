{
 "cells": [
  {
   "cell_type": "code",
   "execution_count": 7,
   "id": "3bb1952c",
   "metadata": {},
   "outputs": [],
   "source": [
    "import pandas as pd\n"
   ]
  },
  {
   "cell_type": "code",
   "execution_count": 8,
   "id": "c5615fe0",
   "metadata": {},
   "outputs": [],
   "source": [
    "df = pd.read_csv('question_answer.csv')"
   ]
  },
  {
   "cell_type": "code",
   "execution_count": 9,
   "id": "5f95ee51",
   "metadata": {},
   "outputs": [],
   "source": [
    "df = df[['question','answer']]\n",
    "df.rename(columns= {'question':'questions','answer':'answers'},inplace=True)"
   ]
  },
  {
   "cell_type": "code",
   "execution_count": 10,
   "id": "20ad804b",
   "metadata": {},
   "outputs": [],
   "source": [
    "df_2 = pd.read_csv('webloader_qa_training_consulting_new.csv')"
   ]
  },
  {
   "cell_type": "code",
   "execution_count": 11,
   "id": "7cec203e",
   "metadata": {},
   "outputs": [
    {
     "data": {
      "text/plain": [
       "(1086, 3)"
      ]
     },
     "execution_count": 11,
     "metadata": {},
     "output_type": "execute_result"
    }
   ],
   "source": [
    "df_2.shape"
   ]
  },
  {
   "cell_type": "code",
   "execution_count": 12,
   "id": "60546c10",
   "metadata": {},
   "outputs": [
    {
     "data": {
      "text/html": [
       "<div>\n",
       "<style scoped>\n",
       "    .dataframe tbody tr th:only-of-type {\n",
       "        vertical-align: middle;\n",
       "    }\n",
       "\n",
       "    .dataframe tbody tr th {\n",
       "        vertical-align: top;\n",
       "    }\n",
       "\n",
       "    .dataframe thead th {\n",
       "        text-align: right;\n",
       "    }\n",
       "</style>\n",
       "<table border=\"1\" class=\"dataframe\">\n",
       "  <thead>\n",
       "    <tr style=\"text-align: right;\">\n",
       "      <th></th>\n",
       "      <th>questions</th>\n",
       "      <th>answers</th>\n",
       "      <th>Unnamed: 0</th>\n",
       "    </tr>\n",
       "  </thead>\n",
       "  <tbody>\n",
       "    <tr>\n",
       "      <th>0</th>\n",
       "      <td>What big data services does Cazton offer?</td>\n",
       "      <td>Cazton has been a pioneer in Big Data. Our tea...</td>\n",
       "      <td>NaN</td>\n",
       "    </tr>\n",
       "    <tr>\n",
       "      <th>1</th>\n",
       "      <td>What strategies can companies use to better u...</td>\n",
       "      <td>\\nWith every passing second, the amount of dat...</td>\n",
       "      <td>NaN</td>\n",
       "    </tr>\n",
       "    <tr>\n",
       "      <th>2</th>\n",
       "      <td>What features does Microsoft Fabric offer as ...</td>\n",
       "      <td>\\nMicrosoft Fabric offers a comprehensive and ...</td>\n",
       "      <td>NaN</td>\n",
       "    </tr>\n",
       "    <tr>\n",
       "      <th>3</th>\n",
       "      <td>\\nWhat advantages does Spark offer over Hadoop...</td>\n",
       "      <td>\\nSpark is an open-source, lightning fast, clu...</td>\n",
       "      <td>NaN</td>\n",
       "    </tr>\n",
       "    <tr>\n",
       "      <th>4</th>\n",
       "      <td>What was Databricks' annualized revenue two y...</td>\n",
       "      <td>\\nOn Aug 5, 2022, the CEO of Databricks announ...</td>\n",
       "      <td>NaN</td>\n",
       "    </tr>\n",
       "    <tr>\n",
       "      <th>...</th>\n",
       "      <td>...</td>\n",
       "      <td>...</td>\n",
       "      <td>...</td>\n",
       "    </tr>\n",
       "    <tr>\n",
       "      <th>1081</th>\n",
       "      <td>What are the benefits of using Electron.js?</td>\n",
       "      <td>The benefits of using Electron.js include impr...</td>\n",
       "      <td>2253.0</td>\n",
       "    </tr>\n",
       "    <tr>\n",
       "      <th>1082</th>\n",
       "      <td>How does Electron.js provide reliable core fun...</td>\n",
       "      <td>Electron.js provides reliable core functionali...</td>\n",
       "      <td>2254.0</td>\n",
       "    </tr>\n",
       "    <tr>\n",
       "      <th>1083</th>\n",
       "      <td>Can you shift smoothly from building web appli...</td>\n",
       "      <td>Yes, you can shift smoothly from building web ...</td>\n",
       "      <td>2255.0</td>\n",
       "    </tr>\n",
       "    <tr>\n",
       "      <th>1084</th>\n",
       "      <td>How does Electron.js ensure data security?</td>\n",
       "      <td>Electron.js ensures data security by providing...</td>\n",
       "      <td>2257.0</td>\n",
       "    </tr>\n",
       "    <tr>\n",
       "      <th>1085</th>\n",
       "      <td>How can Cazton help with Electron.js consulting?</td>\n",
       "      <td>Cazton can help with Electron.js consulting by...</td>\n",
       "      <td>2259.0</td>\n",
       "    </tr>\n",
       "  </tbody>\n",
       "</table>\n",
       "<p>1289 rows × 3 columns</p>\n",
       "</div>"
      ],
      "text/plain": [
       "                                              questions  \\\n",
       "0             What big data services does Cazton offer?   \n",
       "1      What strategies can companies use to better u...   \n",
       "2      What features does Microsoft Fabric offer as ...   \n",
       "3     \\nWhat advantages does Spark offer over Hadoop...   \n",
       "4      What was Databricks' annualized revenue two y...   \n",
       "...                                                 ...   \n",
       "1081        What are the benefits of using Electron.js?   \n",
       "1082  How does Electron.js provide reliable core fun...   \n",
       "1083  Can you shift smoothly from building web appli...   \n",
       "1084         How does Electron.js ensure data security?   \n",
       "1085   How can Cazton help with Electron.js consulting?   \n",
       "\n",
       "                                                answers  Unnamed: 0  \n",
       "0     Cazton has been a pioneer in Big Data. Our tea...         NaN  \n",
       "1     \\nWith every passing second, the amount of dat...         NaN  \n",
       "2     \\nMicrosoft Fabric offers a comprehensive and ...         NaN  \n",
       "3     \\nSpark is an open-source, lightning fast, clu...         NaN  \n",
       "4     \\nOn Aug 5, 2022, the CEO of Databricks announ...         NaN  \n",
       "...                                                 ...         ...  \n",
       "1081  The benefits of using Electron.js include impr...      2253.0  \n",
       "1082  Electron.js provides reliable core functionali...      2254.0  \n",
       "1083  Yes, you can shift smoothly from building web ...      2255.0  \n",
       "1084  Electron.js ensures data security by providing...      2257.0  \n",
       "1085  Cazton can help with Electron.js consulting by...      2259.0  \n",
       "\n",
       "[1289 rows x 3 columns]"
      ]
     },
     "execution_count": 12,
     "metadata": {},
     "output_type": "execute_result"
    }
   ],
   "source": [
    "df = pd.concat([df,df_2])\n",
    "df"
   ]
  },
  {
   "cell_type": "code",
   "execution_count": 13,
   "id": "626bbd7d",
   "metadata": {},
   "outputs": [],
   "source": [
    "df = df[['questions','answers']]\n",
    "df.to_csv('complete_data.csv')"
   ]
  },
  {
   "cell_type": "code",
   "execution_count": null,
   "id": "c744d9b3",
   "metadata": {},
   "outputs": [],
   "source": []
  },
  {
   "cell_type": "code",
   "execution_count": 32,
   "id": "4f60e93d",
   "metadata": {},
   "outputs": [],
   "source": [
    "import os\n",
    "import glob"
   ]
  },
  {
   "cell_type": "code",
   "execution_count": 33,
   "id": "7ad78e36",
   "metadata": {},
   "outputs": [],
   "source": [
    "\n",
    "path = '/Users/sahibpreetsingh/Downloads/Cazton Scrapping 2/'\n",
    "\n",
    "csv_files = glob.glob(os.path.join(path, \"*.csv\"))"
   ]
  },
  {
   "cell_type": "code",
   "execution_count": 34,
   "id": "bf4a8ac4",
   "metadata": {},
   "outputs": [
    {
     "data": {
      "text/plain": [
       "['/Users/sahibpreetsingh/Downloads/Cazton Scrapping 2/qa-pair-cloud.csv',\n",
       " '/Users/sahibpreetsingh/Downloads/Cazton Scrapping 2/qa-pair-artificial-intelligence.csv',\n",
       " '/Users/sahibpreetsingh/Downloads/Cazton Scrapping 2/qa-pair-enterprise-search.csv',\n",
       " '/Users/sahibpreetsingh/Downloads/Cazton Scrapping 2/qa-pair-desktop-development.csv',\n",
       " '/Users/sahibpreetsingh/Downloads/Cazton Scrapping 2/qa-pair-database-development.csv',\n",
       " '/Users/sahibpreetsingh/Downloads/Cazton Scrapping 2/qa-pair-api-development.csv',\n",
       " '/Users/sahibpreetsingh/Downloads/Cazton Scrapping 2/qa-pair-web-development.csv',\n",
       " '/Users/sahibpreetsingh/Downloads/Cazton Scrapping 2/qa-pair-devops.csv',\n",
       " '/Users/sahibpreetsingh/Downloads/Cazton Scrapping 2/qa-pair-big-data-development.csv',\n",
       " '/Users/sahibpreetsingh/Downloads/Cazton Scrapping 2/qa-pair-mobile-development.csv']"
      ]
     },
     "execution_count": 34,
     "metadata": {},
     "output_type": "execute_result"
    }
   ],
   "source": [
    "csv_files"
   ]
  },
  {
   "cell_type": "code",
   "execution_count": 35,
   "id": "1aecce51",
   "metadata": {},
   "outputs": [
    {
     "name": "stdout",
     "output_type": "stream",
     "text": [
      "0 /Users/sahibpreetsingh/Downloads/Cazton Scrapping 2/qa-pair-cloud.csv 95 Index(['questions', 'answers', 'service'], dtype='object')\n",
      "1 /Users/sahibpreetsingh/Downloads/Cazton Scrapping 2/qa-pair-artificial-intelligence.csv 497 Index(['questions', 'answers', 'service'], dtype='object')\n",
      "2 /Users/sahibpreetsingh/Downloads/Cazton Scrapping 2/qa-pair-enterprise-search.csv 150 Index(['questions', 'answers', 'service'], dtype='object')\n",
      "3 /Users/sahibpreetsingh/Downloads/Cazton Scrapping 2/qa-pair-desktop-development.csv 90 Index(['questions', 'answers', 'service'], dtype='object')\n",
      "4 /Users/sahibpreetsingh/Downloads/Cazton Scrapping 2/qa-pair-database-development.csv 149 Index(['questions', 'answers', 'service'], dtype='object')\n",
      "5 /Users/sahibpreetsingh/Downloads/Cazton Scrapping 2/qa-pair-api-development.csv 0 Index(['questions', 'answers', 'service'], dtype='object')\n",
      "6 /Users/sahibpreetsingh/Downloads/Cazton Scrapping 2/qa-pair-web-development.csv 683 Index(['questions', 'answers', 'service'], dtype='object')\n",
      "7 /Users/sahibpreetsingh/Downloads/Cazton Scrapping 2/qa-pair-devops.csv 97 Index(['questions', 'answers', 'service'], dtype='object')\n",
      "8 /Users/sahibpreetsingh/Downloads/Cazton Scrapping 2/qa-pair-big-data-development.csv 270 Index(['questions', 'answers', 'service'], dtype='object')\n",
      "9 /Users/sahibpreetsingh/Downloads/Cazton Scrapping 2/qa-pair-mobile-development.csv 100 Index(['questions', 'answers', 'service'], dtype='object')\n"
     ]
    }
   ],
   "source": [
    "ls=[]\n",
    "for j,i in enumerate(csv_files):\n",
    "    df = pd.read_csv(i)\n",
    "    print(j,i,len(df),df.columns)\n",
    "    df = df[['questions','answers']]\n",
    "    ls.append(df)\n",
    "    "
   ]
  },
  {
   "cell_type": "code",
   "execution_count": 36,
   "id": "6f8f9ed6",
   "metadata": {},
   "outputs": [],
   "source": [
    "df_consulting = pd.concat(ls)"
   ]
  },
  {
   "cell_type": "code",
   "execution_count": 37,
   "id": "4e12ed71",
   "metadata": {},
   "outputs": [
    {
     "data": {
      "text/html": [
       "<div>\n",
       "<style scoped>\n",
       "    .dataframe tbody tr th:only-of-type {\n",
       "        vertical-align: middle;\n",
       "    }\n",
       "\n",
       "    .dataframe tbody tr th {\n",
       "        vertical-align: top;\n",
       "    }\n",
       "\n",
       "    .dataframe thead th {\n",
       "        text-align: right;\n",
       "    }\n",
       "</style>\n",
       "<table border=\"1\" class=\"dataframe\">\n",
       "  <thead>\n",
       "    <tr style=\"text-align: right;\">\n",
       "      <th></th>\n",
       "      <th>questions</th>\n",
       "      <th>answers</th>\n",
       "    </tr>\n",
       "  </thead>\n",
       "  <tbody>\n",
       "    <tr>\n",
       "      <th>0</th>\n",
       "      <td>What services does AWS Consulting provide?</td>\n",
       "      <td>AWS Consulting provides development, consultin...</td>\n",
       "    </tr>\n",
       "    <tr>\n",
       "      <th>1</th>\n",
       "      <td>What is AWS Fargate?</td>\n",
       "      <td>AWS Fargate is a serverless container orchestr...</td>\n",
       "    </tr>\n",
       "    <tr>\n",
       "      <th>2</th>\n",
       "      <td>Why is AWS rated as the top public cloud servi...</td>\n",
       "      <td>AWS is rated as the top public cloud service p...</td>\n",
       "    </tr>\n",
       "    <tr>\n",
       "      <th>3</th>\n",
       "      <td>What are some of the solutions that AWS Consul...</td>\n",
       "      <td>AWS Consulting offers solutions such as integr...</td>\n",
       "    </tr>\n",
       "    <tr>\n",
       "      <th>4</th>\n",
       "      <td>What is AWS Lambda?</td>\n",
       "      <td>AWS Lambda is a highly available compute servi...</td>\n",
       "    </tr>\n",
       "    <tr>\n",
       "      <th>...</th>\n",
       "      <td>...</td>\n",
       "      <td>...</td>\n",
       "    </tr>\n",
       "    <tr>\n",
       "      <th>95</th>\n",
       "      <td>Why is data security a concern in web-based ap...</td>\n",
       "      <td>Data security is a concern in web-based applic...</td>\n",
       "    </tr>\n",
       "    <tr>\n",
       "      <th>96</th>\n",
       "      <td>How does Electron.js ensure data security?</td>\n",
       "      <td>Electron.js ensures data security by providing...</td>\n",
       "    </tr>\n",
       "    <tr>\n",
       "      <th>97</th>\n",
       "      <td>What is the difference between desktop applica...</td>\n",
       "      <td>Desktop applications are installed on a single...</td>\n",
       "    </tr>\n",
       "    <tr>\n",
       "      <th>98</th>\n",
       "      <td>How can Cazton help with Electron.js consulting?</td>\n",
       "      <td>Cazton can help with Electron.js consulting by...</td>\n",
       "    </tr>\n",
       "    <tr>\n",
       "      <th>99</th>\n",
       "      <td>What are the potential performance issues with...</td>\n",
       "      <td>Potential performance issues with Electron.js ...</td>\n",
       "    </tr>\n",
       "  </tbody>\n",
       "</table>\n",
       "<p>2131 rows × 2 columns</p>\n",
       "</div>"
      ],
      "text/plain": [
       "                                            questions  \\\n",
       "0          What services does AWS Consulting provide?   \n",
       "1                                What is AWS Fargate?   \n",
       "2   Why is AWS rated as the top public cloud servi...   \n",
       "3   What are some of the solutions that AWS Consul...   \n",
       "4                                 What is AWS Lambda?   \n",
       "..                                                ...   \n",
       "95  Why is data security a concern in web-based ap...   \n",
       "96         How does Electron.js ensure data security?   \n",
       "97  What is the difference between desktop applica...   \n",
       "98   How can Cazton help with Electron.js consulting?   \n",
       "99  What are the potential performance issues with...   \n",
       "\n",
       "                                              answers  \n",
       "0   AWS Consulting provides development, consultin...  \n",
       "1   AWS Fargate is a serverless container orchestr...  \n",
       "2   AWS is rated as the top public cloud service p...  \n",
       "3   AWS Consulting offers solutions such as integr...  \n",
       "4   AWS Lambda is a highly available compute servi...  \n",
       "..                                                ...  \n",
       "95  Data security is a concern in web-based applic...  \n",
       "96  Electron.js ensures data security by providing...  \n",
       "97  Desktop applications are installed on a single...  \n",
       "98  Cazton can help with Electron.js consulting by...  \n",
       "99  Potential performance issues with Electron.js ...  \n",
       "\n",
       "[2131 rows x 2 columns]"
      ]
     },
     "execution_count": 37,
     "metadata": {},
     "output_type": "execute_result"
    }
   ],
   "source": [
    "df_consulting"
   ]
  },
  {
   "cell_type": "code",
   "execution_count": 38,
   "id": "2979a53b",
   "metadata": {},
   "outputs": [],
   "source": [
    "\n",
    "path = '/Users/sahibpreetsingh/Downloads/Cazton Scrapping 2/training'\n",
    "\n",
    "csv_files = glob.glob(os.path.join(path, \"*.csv\"))"
   ]
  },
  {
   "cell_type": "code",
   "execution_count": 39,
   "id": "f9a41925",
   "metadata": {},
   "outputs": [
    {
     "name": "stdout",
     "output_type": "stream",
     "text": [
      "0 /Users/sahibpreetsingh/Downloads/Cazton Scrapping 2/training/qa-pair-training-microservices.csv 10 Index(['questions', 'answers', 'training'], dtype='object')\n",
      "1 /Users/sahibpreetsingh/Downloads/Cazton Scrapping 2/training/qa-pair-training-asp-net-core.csv 10 Index(['questions', 'answers', 'training'], dtype='object')\n",
      "2 /Users/sahibpreetsingh/Downloads/Cazton Scrapping 2/training/qa-pair-training-mastering-reactjs.csv 10 Index(['questions', 'answers', 'training'], dtype='object')\n",
      "3 /Users/sahibpreetsingh/Downloads/Cazton Scrapping 2/training/qa-pair-training-mastering-vuejs.csv 10 Index(['questions', 'answers', 'training'], dtype='object')\n",
      "4 /Users/sahibpreetsingh/Downloads/Cazton Scrapping 2/training/qa-pair-training-docker.csv 10 Index(['questions', 'answers', 'training'], dtype='object')\n",
      "5 /Users/sahibpreetsingh/Downloads/Cazton Scrapping 2/training/qa-pair-training-mastering-ecmascript.csv 10 Index(['questions', 'answers', 'training'], dtype='object')\n",
      "6 /Users/sahibpreetsingh/Downloads/Cazton Scrapping 2/training/qa-pair-training-mastering-aurelia.csv 10 Index(['questions', 'answers', 'training'], dtype='object')\n",
      "7 /Users/sahibpreetsingh/Downloads/Cazton Scrapping 2/training/qa-pair-training-kubernetes.csv 10 Index(['questions', 'answers', 'training'], dtype='object')\n",
      "8 /Users/sahibpreetsingh/Downloads/Cazton Scrapping 2/training/qa-pair-training-spark-dotnet.csv 10 Index(['questions', 'answers', 'training'], dtype='object')\n",
      "9 /Users/sahibpreetsingh/Downloads/Cazton Scrapping 2/training/qa-pair-training-tensorflow.csv 10 Index(['questions', 'answers', 'training'], dtype='object')\n",
      "10 /Users/sahibpreetsingh/Downloads/Cazton Scrapping 2/training/qa-pair-training-mastering-typescript.csv 10 Index(['questions', 'answers', 'training'], dtype='object')\n",
      "11 /Users/sahibpreetsingh/Downloads/Cazton Scrapping 2/training/qa-pair-training-mastering-angular.csv 10 Index(['questions', 'answers', 'training'], dtype='object')\n",
      "12 /Users/sahibpreetsingh/Downloads/Cazton Scrapping 2/training/qa-pair-training-mastering-angularjs.csv 10 Index(['questions', 'answers', 'training'], dtype='object')\n"
     ]
    }
   ],
   "source": [
    "ls=[]\n",
    "for j,i in enumerate(csv_files):\n",
    "    df = pd.read_csv(i)\n",
    "    print(j,i,len(df),df.columns)\n",
    "    df = df[['questions','answers']]\n",
    "    ls.append(df)\n",
    "    "
   ]
  },
  {
   "cell_type": "code",
   "execution_count": 40,
   "id": "9a3129b7",
   "metadata": {},
   "outputs": [
    {
     "data": {
      "text/html": [
       "<div>\n",
       "<style scoped>\n",
       "    .dataframe tbody tr th:only-of-type {\n",
       "        vertical-align: middle;\n",
       "    }\n",
       "\n",
       "    .dataframe tbody tr th {\n",
       "        vertical-align: top;\n",
       "    }\n",
       "\n",
       "    .dataframe thead th {\n",
       "        text-align: right;\n",
       "    }\n",
       "</style>\n",
       "<table border=\"1\" class=\"dataframe\">\n",
       "  <thead>\n",
       "    <tr style=\"text-align: right;\">\n",
       "      <th></th>\n",
       "      <th>questions</th>\n",
       "      <th>answers</th>\n",
       "    </tr>\n",
       "  </thead>\n",
       "  <tbody>\n",
       "    <tr>\n",
       "      <th>0</th>\n",
       "      <td>What is microservice architecture?</td>\n",
       "      <td>Microservice architecture consists of a collec...</td>\n",
       "    </tr>\n",
       "    <tr>\n",
       "      <th>1</th>\n",
       "      <td>What are the characteristics of microservices?</td>\n",
       "      <td>Microservices are very small, independent and ...</td>\n",
       "    </tr>\n",
       "    <tr>\n",
       "      <th>2</th>\n",
       "      <td>What is the focus of this training?</td>\n",
       "      <td>The focus of this training is to provide a com...</td>\n",
       "    </tr>\n",
       "    <tr>\n",
       "      <th>3</th>\n",
       "      <td>What topics will be covered in this training?</td>\n",
       "      <td>The training will cover everything from learni...</td>\n",
       "    </tr>\n",
       "    <tr>\n",
       "      <th>4</th>\n",
       "      <td>What are the advantages and disadvantages of m...</td>\n",
       "      <td>The advantages of microservices include modula...</td>\n",
       "    </tr>\n",
       "    <tr>\n",
       "      <th>...</th>\n",
       "      <td>...</td>\n",
       "      <td>...</td>\n",
       "    </tr>\n",
       "    <tr>\n",
       "      <th>5</th>\n",
       "      <td>What are some of the other services offered by...</td>\n",
       "      <td>Cazton also offers other services such as Azur...</td>\n",
       "    </tr>\n",
       "    <tr>\n",
       "      <th>6</th>\n",
       "      <td>When was AngularJS introduced by Google?</td>\n",
       "      <td>AngularJS was introduced by Google in 2012.</td>\n",
       "    </tr>\n",
       "    <tr>\n",
       "      <th>7</th>\n",
       "      <td>What are some of the benefits of using AngularJS?</td>\n",
       "      <td>Some benefits of using AngularJS include addre...</td>\n",
       "    </tr>\n",
       "    <tr>\n",
       "      <th>8</th>\n",
       "      <td>Where does Cazton provide its AngularJS consul...</td>\n",
       "      <td>Cazton provides AngularJS consulting and train...</td>\n",
       "    </tr>\n",
       "    <tr>\n",
       "      <th>9</th>\n",
       "      <td>Can Cazton provide customized training based o...</td>\n",
       "      <td>Yes, Cazton can provide customized training ba...</td>\n",
       "    </tr>\n",
       "  </tbody>\n",
       "</table>\n",
       "<p>130 rows × 2 columns</p>\n",
       "</div>"
      ],
      "text/plain": [
       "                                            questions  \\\n",
       "0                  What is microservice architecture?   \n",
       "1      What are the characteristics of microservices?   \n",
       "2                 What is the focus of this training?   \n",
       "3       What topics will be covered in this training?   \n",
       "4   What are the advantages and disadvantages of m...   \n",
       "..                                                ...   \n",
       "5   What are some of the other services offered by...   \n",
       "6            When was AngularJS introduced by Google?   \n",
       "7   What are some of the benefits of using AngularJS?   \n",
       "8   Where does Cazton provide its AngularJS consul...   \n",
       "9   Can Cazton provide customized training based o...   \n",
       "\n",
       "                                              answers  \n",
       "0   Microservice architecture consists of a collec...  \n",
       "1   Microservices are very small, independent and ...  \n",
       "2   The focus of this training is to provide a com...  \n",
       "3   The training will cover everything from learni...  \n",
       "4   The advantages of microservices include modula...  \n",
       "..                                                ...  \n",
       "5   Cazton also offers other services such as Azur...  \n",
       "6         AngularJS was introduced by Google in 2012.  \n",
       "7   Some benefits of using AngularJS include addre...  \n",
       "8   Cazton provides AngularJS consulting and train...  \n",
       "9   Yes, Cazton can provide customized training ba...  \n",
       "\n",
       "[130 rows x 2 columns]"
      ]
     },
     "execution_count": 40,
     "metadata": {},
     "output_type": "execute_result"
    }
   ],
   "source": [
    "df_training = pd.concat(ls)\n",
    "df_training"
   ]
  },
  {
   "cell_type": "code",
   "execution_count": 41,
   "id": "b5bdb2ed",
   "metadata": {},
   "outputs": [
    {
     "data": {
      "text/plain": [
       "2261"
      ]
     },
     "execution_count": 41,
     "metadata": {},
     "output_type": "execute_result"
    }
   ],
   "source": [
    "df = pd.concat([df_training,df_consulting])\n",
    "len(df)"
   ]
  },
  {
   "cell_type": "code",
   "execution_count": 42,
   "id": "31e65c3a",
   "metadata": {},
   "outputs": [],
   "source": [
    "df.reset_index(drop=True,inplace=True)"
   ]
  },
  {
   "cell_type": "code",
   "execution_count": 43,
   "id": "c7a7e934",
   "metadata": {},
   "outputs": [
    {
     "data": {
      "text/html": [
       "<div>\n",
       "<style scoped>\n",
       "    .dataframe tbody tr th:only-of-type {\n",
       "        vertical-align: middle;\n",
       "    }\n",
       "\n",
       "    .dataframe tbody tr th {\n",
       "        vertical-align: top;\n",
       "    }\n",
       "\n",
       "    .dataframe thead th {\n",
       "        text-align: right;\n",
       "    }\n",
       "</style>\n",
       "<table border=\"1\" class=\"dataframe\">\n",
       "  <thead>\n",
       "    <tr style=\"text-align: right;\">\n",
       "      <th></th>\n",
       "      <th>questions</th>\n",
       "      <th>answers</th>\n",
       "    </tr>\n",
       "  </thead>\n",
       "  <tbody>\n",
       "    <tr>\n",
       "      <th>0</th>\n",
       "      <td>What is microservice architecture?</td>\n",
       "      <td>Microservice architecture consists of a collec...</td>\n",
       "    </tr>\n",
       "    <tr>\n",
       "      <th>1</th>\n",
       "      <td>What are the characteristics of microservices?</td>\n",
       "      <td>Microservices are very small, independent and ...</td>\n",
       "    </tr>\n",
       "    <tr>\n",
       "      <th>2</th>\n",
       "      <td>What is the focus of this training?</td>\n",
       "      <td>The focus of this training is to provide a com...</td>\n",
       "    </tr>\n",
       "    <tr>\n",
       "      <th>3</th>\n",
       "      <td>What topics will be covered in this training?</td>\n",
       "      <td>The training will cover everything from learni...</td>\n",
       "    </tr>\n",
       "    <tr>\n",
       "      <th>4</th>\n",
       "      <td>What are the advantages and disadvantages of m...</td>\n",
       "      <td>The advantages of microservices include modula...</td>\n",
       "    </tr>\n",
       "    <tr>\n",
       "      <th>...</th>\n",
       "      <td>...</td>\n",
       "      <td>...</td>\n",
       "    </tr>\n",
       "    <tr>\n",
       "      <th>2256</th>\n",
       "      <td>Why is data security a concern in web-based ap...</td>\n",
       "      <td>Data security is a concern in web-based applic...</td>\n",
       "    </tr>\n",
       "    <tr>\n",
       "      <th>2257</th>\n",
       "      <td>How does Electron.js ensure data security?</td>\n",
       "      <td>Electron.js ensures data security by providing...</td>\n",
       "    </tr>\n",
       "    <tr>\n",
       "      <th>2258</th>\n",
       "      <td>What is the difference between desktop applica...</td>\n",
       "      <td>Desktop applications are installed on a single...</td>\n",
       "    </tr>\n",
       "    <tr>\n",
       "      <th>2259</th>\n",
       "      <td>How can Cazton help with Electron.js consulting?</td>\n",
       "      <td>Cazton can help with Electron.js consulting by...</td>\n",
       "    </tr>\n",
       "    <tr>\n",
       "      <th>2260</th>\n",
       "      <td>What are the potential performance issues with...</td>\n",
       "      <td>Potential performance issues with Electron.js ...</td>\n",
       "    </tr>\n",
       "  </tbody>\n",
       "</table>\n",
       "<p>2261 rows × 2 columns</p>\n",
       "</div>"
      ],
      "text/plain": [
       "                                              questions  \\\n",
       "0                    What is microservice architecture?   \n",
       "1        What are the characteristics of microservices?   \n",
       "2                   What is the focus of this training?   \n",
       "3         What topics will be covered in this training?   \n",
       "4     What are the advantages and disadvantages of m...   \n",
       "...                                                 ...   \n",
       "2256  Why is data security a concern in web-based ap...   \n",
       "2257         How does Electron.js ensure data security?   \n",
       "2258  What is the difference between desktop applica...   \n",
       "2259   How can Cazton help with Electron.js consulting?   \n",
       "2260  What are the potential performance issues with...   \n",
       "\n",
       "                                                answers  \n",
       "0     Microservice architecture consists of a collec...  \n",
       "1     Microservices are very small, independent and ...  \n",
       "2     The focus of this training is to provide a com...  \n",
       "3     The training will cover everything from learni...  \n",
       "4     The advantages of microservices include modula...  \n",
       "...                                                 ...  \n",
       "2256  Data security is a concern in web-based applic...  \n",
       "2257  Electron.js ensures data security by providing...  \n",
       "2258  Desktop applications are installed on a single...  \n",
       "2259  Cazton can help with Electron.js consulting by...  \n",
       "2260  Potential performance issues with Electron.js ...  \n",
       "\n",
       "[2261 rows x 2 columns]"
      ]
     },
     "execution_count": 43,
     "metadata": {},
     "output_type": "execute_result"
    }
   ],
   "source": [
    "df"
   ]
  },
  {
   "cell_type": "code",
   "execution_count": 44,
   "id": "676aaea6",
   "metadata": {},
   "outputs": [],
   "source": []
  },
  {
   "cell_type": "code",
   "execution_count": 45,
   "id": "6ef9bd7d",
   "metadata": {},
   "outputs": [],
   "source": [
    "drop_rows = [2,3,11,12,13,14,16,17,18,20,24,27,30,31,34,35,33,40,41,44,49,50,51,53,56,59,62,\n",
    "             63,69,70,84,100,117,118,151,176,187,209,216,217,221,224,341,343,344]"
   ]
  },
  {
   "cell_type": "code",
   "execution_count": 61,
   "id": "5ce87471",
   "metadata": {},
   "outputs": [
    {
     "data": {
      "text/plain": [
       "(questions    What rights does Cazton have for the Microsoft...\n",
       " answers      Cazton has the copyright and all rights reserv...\n",
       " Name: 344, dtype: object,\n",
       " 45)"
      ]
     },
     "execution_count": 61,
     "metadata": {},
     "output_type": "execute_result"
    }
   ],
   "source": [
    "df.iloc[344],len(drop_rows)"
   ]
  },
  {
   "cell_type": "code",
   "execution_count": 62,
   "id": "38b2f3ce",
   "metadata": {},
   "outputs": [],
   "source": [
    "df = df.drop(drop_rows,axis=0)\n"
   ]
  },
  {
   "cell_type": "code",
   "execution_count": 63,
   "id": "30fa52cd",
   "metadata": {},
   "outputs": [
    {
     "data": {
      "text/plain": [
       "(2216, 2)"
      ]
     },
     "execution_count": 63,
     "metadata": {},
     "output_type": "execute_result"
    }
   ],
   "source": [
    "df.shape"
   ]
  },
  {
   "cell_type": "code",
   "execution_count": 70,
   "id": "a2c1335f",
   "metadata": {},
   "outputs": [],
   "source": [
    "df.drop_duplicates(subset=['questions'],inplace = True)"
   ]
  },
  {
   "cell_type": "code",
   "execution_count": 71,
   "id": "3d31e5b5",
   "metadata": {},
   "outputs": [],
   "source": [
    "df.to_csv('webloader_qa_training_consulting_new.csv')"
   ]
  },
  {
   "cell_type": "code",
   "execution_count": null,
   "id": "cf43e3c7",
   "metadata": {},
   "outputs": [],
   "source": []
  },
  {
   "cell_type": "code",
   "execution_count": null,
   "id": "651ae996",
   "metadata": {},
   "outputs": [],
   "source": []
  },
  {
   "cell_type": "code",
   "execution_count": null,
   "id": "3e5d79ee",
   "metadata": {},
   "outputs": [],
   "source": []
  }
 ],
 "metadata": {
  "kernelspec": {
   "display_name": "Python 3 (ipykernel)",
   "language": "python",
   "name": "python3"
  },
  "language_info": {
   "codemirror_mode": {
    "name": "ipython",
    "version": 3
   },
   "file_extension": ".py",
   "mimetype": "text/x-python",
   "name": "python",
   "nbconvert_exporter": "python",
   "pygments_lexer": "ipython3",
   "version": "3.9.18"
  }
 },
 "nbformat": 4,
 "nbformat_minor": 5
}
